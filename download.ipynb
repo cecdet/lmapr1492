{
 "cells": [
  {
   "cell_type": "code",
   "execution_count": null,
   "id": "05980ec4",
   "metadata": {},
   "outputs": [],
   "source": []
  },
  {
   "cell_type": "code",
   "execution_count": 17,
   "id": "3fcff2d7",
   "metadata": {},
   "outputs": [],
   "source": [
    "from pymatgen.ext.matproj import MPRester\n",
    "\n",
    "with MPRester(\"sFKdeFLD37yMl1L8Kxu1jUecE8tlqVep\") as m:\n",
    "    # Téléchargement du fichier CIF\n",
    "    fich_cif = m.get_data(\"mp-867193\", data_type='cif')\n",
    "    #Ecriture du fichier\n",
    "    with open(\"mp-867193.cif\",\"w\") as f:\n",
    "        f.write(fich_cif['cif'])"
   ]
  },
  {
   "cell_type": "code",
   "execution_count": null,
   "id": "bba2fd87",
   "metadata": {},
   "outputs": [],
   "source": []
  }
 ],
 "metadata": {
  "kernelspec": {
   "display_name": "Python 3",
   "language": "python",
   "name": "python3"
  },
  "language_info": {
   "codemirror_mode": {
    "name": "ipython",
    "version": 3
   },
   "file_extension": ".py",
   "mimetype": "text/x-python",
   "name": "python",
   "nbconvert_exporter": "python",
   "pygments_lexer": "ipython3",
   "version": "3.6.8"
  }
 },
 "nbformat": 4,
 "nbformat_minor": 5
}
