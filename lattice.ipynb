{
 "cells": [
  {
   "cell_type": "code",
   "execution_count": 24,
   "id": "207a4245",
   "metadata": {},
   "outputs": [
    {
     "name": "stdout",
     "output_type": "stream",
     "text": [
      "Vecteurs de bases du réseau direct : [[8.02167000e+00 0.00000000e+00 4.91185624e-16]\n",
      " [1.28998292e-15 8.02167000e+00 4.91185624e-16]\n",
      " [0.00000000e+00 0.00000000e+00 8.02167000e+00]]\n",
      "Vecteurs de bases du réseau réciproque : [[ 7.83276463e-01 -1.25960462e-16  0.00000000e+00]\n",
      " [ 0.00000000e+00  7.83276463e-01  0.00000000e+00]\n",
      " [-4.79618507e-17 -4.79618507e-17  7.83276463e-01]]\n",
      "Type de maille : cubic\n",
      "Système cristallin : cubic\n",
      "Groupe ponctuel : m-3m\n"
     ]
    }
   ],
   "source": [
    "from pymatgen.ext.matproj import MPRester\n",
    "from pymatgen.symmetry.analyzer import SpacegroupAnalyzer\n",
    "from pymatgen.core.structure import Structure\n",
    "\n",
    "with MPRester(\"sFKdeFLD37yMl1L8Kxu1jUecE8tlqVep\") as m:\n",
    "    \n",
    "    #Téléchargement du fichier CIF\n",
    "    fich_cif = m.get_data(\"mp-867193\", data_type='cif')\n",
    "    \n",
    "    #Ecriture du fichier\n",
    "    with open(\"mp-867193.cif\",\"w\") as f:\n",
    "        f.write(fich_cif['cif'])\n",
    "        \n",
    "    #Structure de travail\n",
    "    \n",
    "    struct = Structure.from_file(\"mp-867193.cif\")\n",
    "    #print(structure)\n",
    " \n",
    "    #Vecteurs de bases du réseau direct\n",
    "    print(\"Vecteurs de bases du réseau direct :\", struct.lattice.matrix)\n",
    "    \n",
    "    #Vecteurs de bases du réseau réciproque\n",
    "    print(\"Vecteurs de bases du réseau réciproque :\", struct.lattice.reciprocal_lattice.matrix)\n",
    "    \n",
    "    #Type de maille \n",
    "    print(\"Type de maille :\", SpacegroupAnalyzer(struct).get_lattice_type())\n",
    "    \n",
    "    #Système cristallin\n",
    "    print(\"Système cristallin :\", SpacegroupAnalyzer(struct).get_crystal_system())\n",
    "    \n",
    "    #Groupe ponctuel\n",
    "    print(\"Groupe ponctuel :\", SpacegroupAnalyzer(struct).get_point_group_symbol())\n",
    "    \n",
    "    #Sources : \n",
    "    #https://api.materialsproject.org/docs#/Materials/search_materials__get\n",
    "    #https://pymatgen.org/usage.html#\n",
    "    "
   ]
  },
  {
   "cell_type": "code",
   "execution_count": null,
   "id": "364fcd89",
   "metadata": {},
   "outputs": [],
   "source": []
  }
 ],
 "metadata": {
  "kernelspec": {
   "display_name": "Python 3",
   "language": "python",
   "name": "python3"
  },
  "language_info": {
   "codemirror_mode": {
    "name": "ipython",
    "version": 3
   },
   "file_extension": ".py",
   "mimetype": "text/x-python",
   "name": "python",
   "nbconvert_exporter": "python",
   "pygments_lexer": "ipython3",
   "version": "3.6.8"
  }
 },
 "nbformat": 4,
 "nbformat_minor": 5
}
