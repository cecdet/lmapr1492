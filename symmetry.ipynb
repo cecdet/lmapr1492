{
 "cells": [
  {
   "cell_type": "code",
   "execution_count": 177,
   "id": "f18fad2b",
   "metadata": {},
   "outputs": [
    {
     "data": {
      "application/vnd.jupyter.widget-view+json": {
       "model_id": "42bcc50c14ea4d6a8f598c57caacc7e7",
       "version_major": 2,
       "version_minor": 0
      },
      "text/plain": [
       "JsmolView(layout=Layout(align_self='stretch', height='400px'))"
      ]
     },
     "metadata": {},
     "output_type": "display_data"
    }
   ],
   "source": [
    "from pymatgen.ext.matproj import MPRester\n",
    "from pymatgen.symmetry.analyzer import SpacegroupAnalyzer\n",
    "from pymatgen.core.structure import Structure\n",
    "from jupyter_jsmol import JsmolView\n",
    "from jupyter_jsmol.pymatgen import quick_view\n",
    "\n",
    "with MPRester(\"sFKdeFLD37yMl1L8Kxu1jUecE8tlqVep\") as m:\n",
    "    \n",
    "    #Téléchargement du fichier CIF\n",
    "    fich_cif = m.get_data(\"mp-867193\", data_type='cif')\n",
    "    \n",
    "    #Ecriture du fichier\n",
    "    with open(\"mp-867193.cif\",\"w\") as f:\n",
    "        f.write(fich_cif['cif'])\n",
    "        \n",
    "    #Structure de travail\n",
    "    #struct = m.get_structure_by_material_id(\"mp-867193\")\n",
    "    struct = Structure.from_file(\"mp-867193.cif\")\n",
    "    \n",
    "    #Visualisation\n",
    "    view = quick_view(struct)\n",
    "    display(view)\n",
    "\n",
    "    # Symétrie\n",
    "    symop = SpacegroupAnalyzer(struct).get_symmetry_operations()\n",
    "    \n",
    "    #Choix des atomes traités\n",
    "    Bi = [0.5, 0.0, 0.5]\n",
    "    Sr = [0.25,0.75,0.75]\n",
    "    Au = [0.0,0.0,0.5]\n",
    "    \n",
    "    #Positions de tous les atomes\n",
    "    #for i in range (len(struct.sites)):\n",
    "        #print(struct.sites[i].frac_coords)\n",
    "    \n",
    "    #Application des opérations de symmétrie\n",
    "    Bis = symop[2].operate(Bi) # où (x,y,z) -> (-y, -x, -z).\n",
    "    Srs = symop[1].operate(Sr) # où (x,y,z) -> (-x, -y, -z).\n",
    "    Aus = symop[27].operate(Au) # où (x,y,z) ->(z, y, x).\n",
    "    "
   ]
  },
  {
   "cell_type": "code",
   "execution_count": 178,
   "id": "d3ae9093",
   "metadata": {
    "scrolled": false
   },
   "outputs": [
    {
     "name": "stdout",
     "output_type": "stream",
     "text": [
      "Première opération de symétrie: rotation d'ordre 2 autour de l'axe <1,0,0> puis d'une inversion de centre (0,0,0)\n",
      "\n",
      "   1)Coordonnées d'origine de l'atome de Bi : [0.5, 0.0, 0.5]\n",
      "   2)Application des opérations de symétrie (matrice de rotation * Bi + vecteur de translation) :\n",
      "[[ 0. -1.  0.]\n",
      " [ 1.  0.  0.]\n",
      " [ 0.  0.  1.]] * [0.5, 0.0, 0.5] + [0. 0. 0.]\n",
      "   3)Coordonnées de l'atome de Bi après l'opération de symétrie : [0.  0.5 0.5]\n",
      "\n",
      "\n"
     ]
    },
    {
     "data": {
      "application/vnd.jupyter.widget-view+json": {
       "model_id": "98c3e1e22f7847849cfe4524bfe8d1d8",
       "version_major": 2,
       "version_minor": 0
      },
      "text/plain": [
       "JsmolView(layout=Layout(align_self='stretch', height='400px'))"
      ]
     },
     "metadata": {},
     "output_type": "display_data"
    }
   ],
   "source": [
    "    #Opération\n",
    "\n",
    "    print(\"Première opération de symétrie: rotation d'ordre 2 autour de l'axe <1,0,0> puis d'une inversion de centre (0,0,0)\")\n",
    "    print(\"\")\n",
    "    print(\"   1)Coordonnées d'origine de l'atome de Bi :\", Bi )\n",
    "    print(\"   2)Application des opérations de symétrie (matrice de rotation * Bi + vecteur de translation) :\")\n",
    "    print(sym[2].rotation_matrix, \"*\", Bi, '+',sym[2].translation_vector )\n",
    "    print(\"   3)Coordonnées de l'atome de Bi après l'opération de symétrie :\", Bis )\n",
    "    print(\"\\n\")\n",
    "    \n",
    "    #Visualisation\n",
    "    view1 = quick_view(struct)\n",
    "    display(view1)\n",
    "    view1.script(\"draw symop 3 {atomno= 32}\")"
   ]
  },
  {
   "cell_type": "code",
   "execution_count": 164,
   "id": "4b093871",
   "metadata": {
    "scrolled": true
   },
   "outputs": [
    {
     "name": "stdout",
     "output_type": "stream",
     "text": [
      "Deuxième opération de symétrie: Inversion de centre (0,0,0) \n",
      "\n",
      "   1)Coordonnées d'origine de l'atome de Sr : [0.25, 0.75, 0.75]\n",
      "   2)Application des opérations de symétrie (matrice de rotation * Sr + vecteur de translation) :\n",
      "[[-1.  0.  0.]\n",
      " [ 0. -1.  0.]\n",
      " [ 0.  0. -1.]] * [0.25, 0.75, 0.75] + [0. 0. 0.]\n",
      "   3)Coordonnées de l'atome de Sr après l'opération de symétrie : [-0.25 -0.75 -0.75]\n",
      "\n",
      "\n"
     ]
    },
    {
     "data": {
      "application/vnd.jupyter.widget-view+json": {
       "model_id": "d097fae0d74742fdabbd526960b25181",
       "version_major": 2,
       "version_minor": 0
      },
      "text/plain": [
       "JsmolView(layout=Layout(align_self='stretch', height='400px'))"
      ]
     },
     "metadata": {},
     "output_type": "display_data"
    }
   ],
   "source": [
    "    #Opération\n",
    "\n",
    "    print(\"Deuxième opération de symétrie: Inversion de centre (0,0,0) \")\n",
    "    print(\"\")\n",
    "    print(\"   1)Coordonnées d'origine de l'atome de Sr :\", Sr )\n",
    "    print(\"   2)Application des opérations de symétrie (matrice de rotation * Sr + vecteur de translation) :\")\n",
    "    print(sym[1].rotation_matrix, \"*\", Sr, '+',sym[1].translation_vector )\n",
    "    print(\"   3)Coordonnées de l'atome de Sr après l'opération de symétrie :\", Srs )\n",
    "    print(\"\\n\")\n",
    "    \n",
    "    #Visualisation\n",
    "    view2 = quick_view(struct)\n",
    "    display(view2)\n",
    "    view2.script(\"draw symop 2 {atomno= 10}\")"
   ]
  },
  {
   "cell_type": "code",
   "execution_count": 163,
   "id": "99d1ab10",
   "metadata": {},
   "outputs": [
    {
     "name": "stdout",
     "output_type": "stream",
     "text": [
      "Troisième opération de symétrie: plan miroir (z,y,x)\n",
      "\n",
      "   1)Coordonnées d'origine de l'atome de Au : [0.0, 0.0, 0.5]\n",
      "   2)Application des opérations de symétrie (matrice de rotation * Au + vecteur de translation) :\n",
      "[[0. 0. 1.]\n",
      " [0. 1. 0.]\n",
      " [1. 0. 0.]] * [0.0, 0.0, 0.5] + [0. 0. 0.]\n",
      "   3)Coordonnées de l'atome de Au après l'opération de symétrie : [0.5 0.  0. ]\n",
      "\n",
      "\n"
     ]
    },
    {
     "data": {
      "application/vnd.jupyter.widget-view+json": {
       "model_id": "a57956b8a8704767ae161e0defb4bd10",
       "version_major": 2,
       "version_minor": 0
      },
      "text/plain": [
       "JsmolView(layout=Layout(align_self='stretch', height='400px'))"
      ]
     },
     "metadata": {},
     "output_type": "display_data"
    }
   ],
   "source": [
    "    #Opérations\n",
    "    \n",
    "    print(\"Troisième opération de symétrie: plan miroir (z,y,x)\")\n",
    "    print(\"\")\n",
    "    print(\"   1)Coordonnées d'origine de l'atome de Au :\", Au )\n",
    "    print(\"   2)Application des opérations de symétrie (matrice de rotation * Au + vecteur de translation) :\")\n",
    "    print(sym[27].rotation_matrix, \"*\", Au, '+',sym[27].translation_vector )\n",
    "    print(\"   3)Coordonnées de l'atome de Au après l'opération de symétrie :\", Aus )\n",
    "    print(\"\\n\")\n",
    "    \n",
    "    \n",
    "    #Visualisation\n",
    "    view3 = quick_view(struct)\n",
    "    display(view3)\n",
    "    view3.script(\"draw symop 28 {atomno= 21}\")"
   ]
  }
 ],
 "metadata": {
  "kernelspec": {
   "display_name": "Python 3",
   "language": "python",
   "name": "python3"
  },
  "language_info": {
   "codemirror_mode": {
    "name": "ipython",
    "version": 3
   },
   "file_extension": ".py",
   "mimetype": "text/x-python",
   "name": "python",
   "nbconvert_exporter": "python",
   "pygments_lexer": "ipython3",
   "version": "3.6.8"
  }
 },
 "nbformat": 4,
 "nbformat_minor": 5
}
