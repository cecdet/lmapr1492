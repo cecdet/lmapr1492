{
 "cells": [
  {
   "cell_type": "code",
   "execution_count": null,
   "id": "f18fad2b",
   "metadata": {},
   "outputs": [],
   "source": [
    "from pymatgen.ext.matproj import MPRester\n",
    "from pymatgen.symmetry.analyzer import SpacegroupAnalyzer\n",
    "from pymatgen.core.structure import Structure\n",
    "from jupyter_jsmol import JsmolView\n",
    "from jupyter_jsmol.pymatgen import quick_view\n",
    "\n",
    "with MPRester(\"sFKdeFLD37yMl1L8Kxu1jUecE8tlqVep\") as m:\n",
    "    \n",
    "    #Téléchargement du fichier CIF\n",
    "    fich_cif = m.get_data(\"mp-867193\", data_type='cif')\n",
    "    \n",
    "    #Ecriture du fichier\n",
    "    with open(\"mp-867193.cif\",\"w\") as f:\n",
    "        f.write(fich_cif['cif'])\n",
    "        \n",
    "    #Structure de travail\n",
    "    #structure = m.get_structure_by_material_id(\"mp-867193\")\n",
    "    struct = Structure.from_file(\"mp-867193.cif\")\n",
    "\n",
    "    #Visualisation\n",
    "    view = quick_view(struct)\n",
    "    display(view)\n",
    "\n",
    "    # Symétrie\n",
    "    sym = SpacegroupAnalyzer(struct).get_symmetry_operations()\n",
    "\n",
    "    #Choix des atomes traités\n",
    "    Bi = [0.0, 0.0, 0.0]\n",
    "    Sr = [0.25,0.75,0.75]\n",
    "    Au = [0.0,0.0,0.5]\n",
    "    \n",
    "    #Opérations de symmétrie\n",
    "    Bis = sym[4].operate(Nb)\n",
    "    Srs = sym[5].operate(Sb)\n",
    "    Aus = sym[3].operate(Ru)\n",
    "    \n",
    "    print(\"Première opération de symétrie: \")\n",
    "    print(\"Coordonnées de l'atome de base :\" + Bi )\n",
    "    print(sym[4].translation_vector, '+',sym[4].rotation_matrix, \"*\", Bi )\n",
    "    print(\"Coordonnées de l'atome d'arrivée' :\" + Bis )\n",
    "\n",
    "    print(\"Deuxième opération de symétrie: \")\n",
    "    print(\"Coordonnées de l'atome de base :\" + Sr )\n",
    "    print(sym[5].translation_vector, '+',sym[5].rotation_matrix, \"*\", Sr )\n",
    "    print(\"Coordonnées de l'atome d'arrivée' :\" + Srs )\n",
    "\n",
    "    print(\"Troisième opération de symétrie: \")\n",
    "    print(\"Coordonnées de l'atome de base :\" + Au )\n",
    "    print(sym[3].translation_vector, '+',sym[3].rotation_matrix, \"*\", Au )\n",
    "    print(\"Coordonnées de l'atome d'arrivée' :\" + Aus )\n",
    "\n"
   ]
  }
 ],
 "metadata": {
  "kernelspec": {
   "display_name": "Python 3",
   "language": "python",
   "name": "python3"
  },
  "language_info": {
   "codemirror_mode": {
    "name": "ipython",
    "version": 3
   },
   "file_extension": ".py",
   "mimetype": "text/x-python",
   "name": "python",
   "nbconvert_exporter": "python",
   "pygments_lexer": "ipython3",
   "version": "3.6.8"
  }
 },
 "nbformat": 4,
 "nbformat_minor": 5
}
